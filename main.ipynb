{
 "cells": [
  {
   "cell_type": "code",
   "execution_count": 44,
   "metadata": {},
   "outputs": [],
   "source": [
    "import tensorflow as tf\n",
    "from tensorflow.keras.models import Sequential\n",
    "from tensorflow.keras.layers import Dense\n",
    "from sklearn.model_selection import train_test_split\n",
    "from sklearn.preprocessing import MinMaxScaler\n",
    "from datetime import datetime\n",
    "import numpy as np"
   ]
  },
  {
   "cell_type": "code",
   "execution_count": 45,
   "metadata": {},
   "outputs": [
    {
     "name": "stderr",
     "output_type": "stream",
     "text": [
      "/home/uncookie/anaconda3/envs/main/lib/python3.9/site-packages/openpyxl/styles/stylesheet.py:226: UserWarning: Workbook contains no default style, apply openpyxl's default\n",
      "  warn(\"Workbook contains no default style, apply openpyxl's default\")\n"
     ]
    },
    {
     "data": {
      "text/html": [
       "<div>\n",
       "<style scoped>\n",
       "    .dataframe tbody tr th:only-of-type {\n",
       "        vertical-align: middle;\n",
       "    }\n",
       "\n",
       "    .dataframe tbody tr th {\n",
       "        vertical-align: top;\n",
       "    }\n",
       "\n",
       "    .dataframe thead th {\n",
       "        text-align: right;\n",
       "    }\n",
       "</style>\n",
       "<table border=\"1\" class=\"dataframe\">\n",
       "  <thead>\n",
       "    <tr style=\"text-align: right;\">\n",
       "      <th></th>\n",
       "      <th>nominal</th>\n",
       "      <th>data</th>\n",
       "      <th>curs</th>\n",
       "      <th>cdx</th>\n",
       "    </tr>\n",
       "  </thead>\n",
       "  <tbody>\n",
       "    <tr>\n",
       "      <th>0</th>\n",
       "      <td>1</td>\n",
       "      <td>2023-12-23</td>\n",
       "      <td>91.9389</td>\n",
       "      <td>Доллар США</td>\n",
       "    </tr>\n",
       "    <tr>\n",
       "      <th>1</th>\n",
       "      <td>1</td>\n",
       "      <td>2023-12-22</td>\n",
       "      <td>91.7062</td>\n",
       "      <td>Доллар США</td>\n",
       "    </tr>\n",
       "    <tr>\n",
       "      <th>2</th>\n",
       "      <td>1</td>\n",
       "      <td>2023-12-21</td>\n",
       "      <td>90.4056</td>\n",
       "      <td>Доллар США</td>\n",
       "    </tr>\n",
       "    <tr>\n",
       "      <th>3</th>\n",
       "      <td>1</td>\n",
       "      <td>2023-12-20</td>\n",
       "      <td>90.0870</td>\n",
       "      <td>Доллар США</td>\n",
       "    </tr>\n",
       "    <tr>\n",
       "      <th>4</th>\n",
       "      <td>1</td>\n",
       "      <td>2023-12-19</td>\n",
       "      <td>90.4162</td>\n",
       "      <td>Доллар США</td>\n",
       "    </tr>\n",
       "    <tr>\n",
       "      <th>...</th>\n",
       "      <td>...</td>\n",
       "      <td>...</td>\n",
       "      <td>...</td>\n",
       "      <td>...</td>\n",
       "    </tr>\n",
       "    <tr>\n",
       "      <th>7199</th>\n",
       "      <td>1</td>\n",
       "      <td>1992-12-16</td>\n",
       "      <td>418.0000</td>\n",
       "      <td>Доллар США</td>\n",
       "    </tr>\n",
       "    <tr>\n",
       "      <th>7200</th>\n",
       "      <td>1</td>\n",
       "      <td>1992-12-11</td>\n",
       "      <td>419.0000</td>\n",
       "      <td>Доллар США</td>\n",
       "    </tr>\n",
       "    <tr>\n",
       "      <th>7201</th>\n",
       "      <td>1</td>\n",
       "      <td>1992-12-09</td>\n",
       "      <td>419.0000</td>\n",
       "      <td>Доллар США</td>\n",
       "    </tr>\n",
       "    <tr>\n",
       "      <th>7202</th>\n",
       "      <td>1</td>\n",
       "      <td>1992-12-04</td>\n",
       "      <td>398.0000</td>\n",
       "      <td>Доллар США</td>\n",
       "    </tr>\n",
       "    <tr>\n",
       "      <th>7203</th>\n",
       "      <td>1</td>\n",
       "      <td>1992-12-02</td>\n",
       "      <td>417.0000</td>\n",
       "      <td>Доллар США</td>\n",
       "    </tr>\n",
       "  </tbody>\n",
       "</table>\n",
       "<p>7204 rows × 4 columns</p>\n",
       "</div>"
      ],
      "text/plain": [
       "      nominal       data      curs         cdx\n",
       "0           1 2023-12-23   91.9389  Доллар США\n",
       "1           1 2023-12-22   91.7062  Доллар США\n",
       "2           1 2023-12-21   90.4056  Доллар США\n",
       "3           1 2023-12-20   90.0870  Доллар США\n",
       "4           1 2023-12-19   90.4162  Доллар США\n",
       "...       ...        ...       ...         ...\n",
       "7199        1 1992-12-16  418.0000  Доллар США\n",
       "7200        1 1992-12-11  419.0000  Доллар США\n",
       "7201        1 1992-12-09  419.0000  Доллар США\n",
       "7202        1 1992-12-04  398.0000  Доллар США\n",
       "7203        1 1992-12-02  417.0000  Доллар США\n",
       "\n",
       "[7204 rows x 4 columns]"
      ]
     },
     "execution_count": 45,
     "metadata": {},
     "output_type": "execute_result"
    }
   ],
   "source": [
    "df = pd.read_excel('data/data.xlsx')\n",
    "df"
   ]
  },
  {
   "cell_type": "code",
   "execution_count": 46,
   "metadata": {},
   "outputs": [
    {
     "data": {
      "text/html": [
       "<div>\n",
       "<style scoped>\n",
       "    .dataframe tbody tr th:only-of-type {\n",
       "        vertical-align: middle;\n",
       "    }\n",
       "\n",
       "    .dataframe tbody tr th {\n",
       "        vertical-align: top;\n",
       "    }\n",
       "\n",
       "    .dataframe thead th {\n",
       "        text-align: right;\n",
       "    }\n",
       "</style>\n",
       "<table border=\"1\" class=\"dataframe\">\n",
       "  <thead>\n",
       "    <tr style=\"text-align: right;\">\n",
       "      <th></th>\n",
       "      <th>data</th>\n",
       "      <th>curs</th>\n",
       "    </tr>\n",
       "  </thead>\n",
       "  <tbody>\n",
       "    <tr>\n",
       "      <th>0</th>\n",
       "      <td>2023-12-23</td>\n",
       "      <td>91.9389</td>\n",
       "    </tr>\n",
       "    <tr>\n",
       "      <th>1</th>\n",
       "      <td>2023-12-22</td>\n",
       "      <td>91.7062</td>\n",
       "    </tr>\n",
       "    <tr>\n",
       "      <th>2</th>\n",
       "      <td>2023-12-21</td>\n",
       "      <td>90.4056</td>\n",
       "    </tr>\n",
       "    <tr>\n",
       "      <th>3</th>\n",
       "      <td>2023-12-20</td>\n",
       "      <td>90.0870</td>\n",
       "    </tr>\n",
       "    <tr>\n",
       "      <th>4</th>\n",
       "      <td>2023-12-19</td>\n",
       "      <td>90.4162</td>\n",
       "    </tr>\n",
       "    <tr>\n",
       "      <th>...</th>\n",
       "      <td>...</td>\n",
       "      <td>...</td>\n",
       "    </tr>\n",
       "    <tr>\n",
       "      <th>7199</th>\n",
       "      <td>1992-12-16</td>\n",
       "      <td>418.0000</td>\n",
       "    </tr>\n",
       "    <tr>\n",
       "      <th>7200</th>\n",
       "      <td>1992-12-11</td>\n",
       "      <td>419.0000</td>\n",
       "    </tr>\n",
       "    <tr>\n",
       "      <th>7201</th>\n",
       "      <td>1992-12-09</td>\n",
       "      <td>419.0000</td>\n",
       "    </tr>\n",
       "    <tr>\n",
       "      <th>7202</th>\n",
       "      <td>1992-12-04</td>\n",
       "      <td>398.0000</td>\n",
       "    </tr>\n",
       "    <tr>\n",
       "      <th>7203</th>\n",
       "      <td>1992-12-02</td>\n",
       "      <td>417.0000</td>\n",
       "    </tr>\n",
       "  </tbody>\n",
       "</table>\n",
       "<p>7204 rows × 2 columns</p>\n",
       "</div>"
      ],
      "text/plain": [
       "           data      curs\n",
       "0    2023-12-23   91.9389\n",
       "1    2023-12-22   91.7062\n",
       "2    2023-12-21   90.4056\n",
       "3    2023-12-20   90.0870\n",
       "4    2023-12-19   90.4162\n",
       "...         ...       ...\n",
       "7199 1992-12-16  418.0000\n",
       "7200 1992-12-11  419.0000\n",
       "7201 1992-12-09  419.0000\n",
       "7202 1992-12-04  398.0000\n",
       "7203 1992-12-02  417.0000\n",
       "\n",
       "[7204 rows x 2 columns]"
      ]
     },
     "execution_count": 46,
     "metadata": {},
     "output_type": "execute_result"
    }
   ],
   "source": [
    "df.drop(columns=['nominal', 'cdx'])"
   ]
  },
  {
   "cell_type": "code",
   "execution_count": 71,
   "metadata": {},
   "outputs": [],
   "source": [
    "dates = pd.to_datetime(df['data'])\n",
    "rates = df['curs'].values\n",
    "\n",
    "dates_numeric = np.array((dates - dates.min()).dt.days, dtype=np.float32)\n",
    "\n",
    "scaler_dates = MinMaxScaler()\n",
    "dates_scaled = scaler_dates.fit_transform(dates_numeric.reshape(-1, 1))\n",
    "\n",
    "scaler_rates = MinMaxScaler()\n",
    "rates_scaled = scaler_rates.fit_transform(rates.reshape(-1, 1))\n",
    "\n",
    "X_train, X_test, y_train, y_test = train_test_split(dates_scaled, rates_scaled, test_size=0.2, random_state=42)\n"
   ]
  },
  {
   "cell_type": "code",
   "execution_count": 72,
   "metadata": {},
   "outputs": [
    {
     "name": "stdout",
     "output_type": "stream",
     "text": [
      "[[1.0000000e+00]\n",
      " [9.9991184e-01]\n",
      " [9.9982369e-01]\n",
      " ...\n",
      " [6.1712071e-04]\n",
      " [1.7632020e-04]\n",
      " [0.0000000e+00]]\n"
     ]
    }
   ],
   "source": [
    "print(dates_scaled)"
   ]
  },
  {
   "cell_type": "code",
   "execution_count": 73,
   "metadata": {},
   "outputs": [],
   "source": [
    "model = Sequential()\n",
    "model.add(Dense(64, activation='relu', input_dim=1))\n",
    "model.add(Dense(32, activation='relu'))\n",
    "model.add(Dense(1, activation='linear'))\n",
    "\n",
    "model.compile(optimizer='adam', loss='mean_squared_error')"
   ]
  },
  {
   "cell_type": "code",
   "execution_count": 74,
   "metadata": {},
   "outputs": [
    {
     "name": "stdout",
     "output_type": "stream",
     "text": [
      "Epoch 1/20\n",
      "181/181 [==============================] - 3s 11ms/step - loss: 0.0472 - val_loss: 0.0399\n",
      "Epoch 2/20\n",
      "181/181 [==============================] - 2s 9ms/step - loss: 0.0345 - val_loss: 0.0284\n",
      "Epoch 3/20\n",
      "181/181 [==============================] - 2s 10ms/step - loss: 0.0241 - val_loss: 0.0212\n",
      "Epoch 4/20\n",
      "181/181 [==============================] - 2s 10ms/step - loss: 0.0187 - val_loss: 0.0164\n",
      "Epoch 5/20\n",
      "181/181 [==============================] - 2s 10ms/step - loss: 0.0169 - val_loss: 0.0148\n",
      "Epoch 6/20\n",
      "181/181 [==============================] - 2s 10ms/step - loss: 0.0151 - val_loss: 0.0135\n",
      "Epoch 7/20\n",
      "181/181 [==============================] - 2s 9ms/step - loss: 0.0139 - val_loss: 0.0124\n",
      "Epoch 8/20\n",
      "181/181 [==============================] - 2s 9ms/step - loss: 0.0127 - val_loss: 0.0108\n",
      "Epoch 9/20\n",
      "181/181 [==============================] - 2s 11ms/step - loss: 0.0116 - val_loss: 0.0094\n",
      "Epoch 10/20\n",
      "181/181 [==============================] - 2s 9ms/step - loss: 0.0097 - val_loss: 0.0092\n",
      "Epoch 11/20\n",
      "181/181 [==============================] - 1s 5ms/step - loss: 0.0081 - val_loss: 0.0060\n",
      "Epoch 12/20\n",
      "181/181 [==============================] - 2s 9ms/step - loss: 0.0069 - val_loss: 0.0043\n",
      "Epoch 13/20\n",
      "181/181 [==============================] - 2s 9ms/step - loss: 0.0054 - val_loss: 0.0035\n",
      "Epoch 14/20\n",
      "181/181 [==============================] - 1s 6ms/step - loss: 0.0047 - val_loss: 0.0034\n",
      "Epoch 15/20\n",
      "181/181 [==============================] - 1s 7ms/step - loss: 0.0043 - val_loss: 0.0025\n",
      "Epoch 16/20\n",
      "181/181 [==============================] - 1s 7ms/step - loss: 0.0037 - val_loss: 0.0024\n",
      "Epoch 17/20\n",
      "181/181 [==============================] - 1s 7ms/step - loss: 0.0035 - val_loss: 0.0063\n",
      "Epoch 18/20\n",
      "181/181 [==============================] - 1s 6ms/step - loss: 0.0037 - val_loss: 0.0028\n",
      "Epoch 19/20\n",
      "181/181 [==============================] - 2s 9ms/step - loss: 0.0036 - val_loss: 0.0037\n",
      "Epoch 20/20\n",
      "181/181 [==============================] - 2s 10ms/step - loss: 0.0034 - val_loss: 0.0021\n"
     ]
    },
    {
     "data": {
      "text/plain": [
       "<keras.callbacks.History at 0x7f5d9c68a250>"
      ]
     },
     "execution_count": 74,
     "metadata": {},
     "output_type": "execute_result"
    }
   ],
   "source": [
    "model.fit(X_train, y_train, epochs=20, batch_size=32, validation_data=(X_test, y_test))"
   ]
  },
  {
   "cell_type": "code",
   "execution_count": 77,
   "metadata": {},
   "outputs": [
    {
     "name": "stdout",
     "output_type": "stream",
     "text": [
      "1/1 [==============================] - 0s 93ms/step\n"
     ]
    }
   ],
   "source": [
    "new_date = pd.to_datetime('2021-12-12')  \n",
    "new_date_numeric = (new_date - dates.min()).days\n",
    "new_date_scaled = scaler_dates.transform([[new_date_numeric]])  \n",
    "predicted_rate_scaled = model.predict(new_date_scaled)\n",
    "predicted_rate = scaler_rates.inverse_transform(predicted_rate_scaled)\n"
   ]
  },
  {
   "cell_type": "code",
   "execution_count": 78,
   "metadata": {},
   "outputs": [
    {
     "data": {
      "text/plain": [
       "array([[123.75592]], dtype=float32)"
      ]
     },
     "execution_count": 78,
     "metadata": {},
     "output_type": "execute_result"
    }
   ],
   "source": [
    "predicted_rate"
   ]
  }
 ],
 "metadata": {
  "kernelspec": {
   "display_name": "main",
   "language": "python",
   "name": "python3"
  },
  "language_info": {
   "codemirror_mode": {
    "name": "ipython",
    "version": 3
   },
   "file_extension": ".py",
   "mimetype": "text/x-python",
   "name": "python",
   "nbconvert_exporter": "python",
   "pygments_lexer": "ipython3",
   "version": "3.9.17"
  }
 },
 "nbformat": 4,
 "nbformat_minor": 2
}
